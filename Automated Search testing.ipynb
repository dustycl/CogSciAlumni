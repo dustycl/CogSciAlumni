{
 "cells": [
  {
   "cell_type": "code",
   "execution_count": 2,
   "metadata": {},
   "outputs": [
    {
     "name": "stdout",
     "output_type": "stream",
     "text": [
      "Requirement already satisfied: selenium in /opt/anaconda3/lib/python3.7/site-packages (3.141.0)\n",
      "Requirement already satisfied: urllib3 in /opt/anaconda3/lib/python3.7/site-packages (from selenium) (1.24.2)\n",
      "Requirement already satisfied: bs4 in /opt/anaconda3/lib/python3.7/site-packages (0.0.1)\n",
      "Requirement already satisfied: beautifulsoup4 in /opt/anaconda3/lib/python3.7/site-packages (from bs4) (4.8.0)\n",
      "Requirement already satisfied: soupsieve>=1.2 in /opt/anaconda3/lib/python3.7/site-packages (from beautifulsoup4->bs4) (1.9.3)\n"
     ]
    }
   ],
   "source": [
    "#Software installs.\n",
    "# To run the automated linkedin search: install chromedriver for the version of chrome you have:\n",
    "# https://sites.google.com/a/chromium.org/chromedriver/downloads\n",
    "!pip install selenium\n",
    "!pip install bs4"
   ]
  },
  {
   "cell_type": "code",
   "execution_count": 12,
   "metadata": {},
   "outputs": [],
   "source": [
    "# Import these packages everytime you run this\n",
    "import pandas as pd \n",
    "import time\n",
    "from selenium import webdriver\n",
    "from bs4 import BeautifulSoup as bs"
   ]
  },
  {
   "cell_type": "code",
   "execution_count": 25,
   "metadata": {},
   "outputs": [],
   "source": [
    "# Below code is based on the code at the link below (although, somethings are updated due to changes to linkedIn)\n",
    "# Code source: https://www.linkedin.com/pulse/how-easy-scraping-data-from-linkedin-profiles-david-craven/\n",
    "\n",
    "#Takes 2 string parameters: email/username, and password\n",
    "def signin( email, password):\n",
    "\n",
    "    driver.get('https://www.linkedin.com/login?fromSignIn=true&trk=guest_homepage-basic_nav-header-signin')\n",
    "\n",
    "    # locate email form by_class_name\n",
    "    username_form = driver.find_element_by_id('username')\n",
    "\n",
    "    # send_keys() to simulate key strokes\n",
    "    username_form.send_keys(email)\n",
    "\n",
    "    time.sleep(0.6)\n",
    "\n",
    "    # locate password form by_class_name\n",
    "    password_form = driver.find_element_by_id('password')\n",
    "\n",
    "    # send_keys() to simulate key strokes\n",
    "    password_form.send_keys(password)\n",
    "\n",
    "    time.sleep(0.8)\n",
    "\n",
    "    # locate submit button by_xpath\n",
    "    sign_in_button = driver.find_element_by_xpath('//*[@type=\"submit\"]')\n",
    "\n",
    "    # .click() to mimic button click\n",
    "    sign_in_button.click()\n"
   ]
  },
  {
   "cell_type": "code",
   "execution_count": 174,
   "metadata": {},
   "outputs": [],
   "source": [
    "# **Important** Function for comparing names to the searched name\n",
    "# Nicknames csv reference: https://github.com/onyxrev/common_nickname_csv\n",
    "# Note: The nicknames in this file are for \"US\" names, it will fail\n",
    "#       on name/nicknames not present (such as Chinese nicknames).\n",
    "#       Currently, free name/nickname pairing that is more thorough\n",
    "#       seem to be behind paywalls / not freely available for use.\n",
    "\n",
    "def nameComparison(first_name, last_name, found_info):\n",
    "    \n",
    "    wrong_names = []\n",
    "    found_names = found_info.keys()\n",
    "    print(len(found_names))\n",
    "    \n",
    "    for found_name in found_names:\n",
    "        \n",
    "        first_name_nicknames = nicknames[nicknames[\"name\"] == (\" \" + first_name)]\n",
    "\n",
    "        first_name_match = first_name in found_name or found_name in first_name\n",
    "        \n",
    "        for nickname in first_name_nicknames[\"nickname\"]:\n",
    "            nickname_match = nickname.strip() in found_name\n",
    "            if(nickname_match):\n",
    "                first_name_match = True\n",
    "        \n",
    "        if( first_name_match == False or last_name not in found_name):\n",
    "            print(found_name + \" doesn't match: \" + first_name + ' ' + last_name)\n",
    "            wrong_names.append(found_name)\n",
    "    \n",
    "    for wrong_name in wrong_names:\n",
    "        found_info.pop(wrong_name)\n",
    "    \n",
    "    print(len(found_names))"
   ]
  },
  {
   "cell_type": "code",
   "execution_count": 179,
   "metadata": {},
   "outputs": [
    {
     "name": "stdout",
     "output_type": "stream",
     "text": [
      "7\n",
      "Becca Buren doesn't match: Rebecca Van Buren\n",
      "Beck Van doesn't match: Rebecca Van Buren\n",
      "5\n"
     ]
    }
   ],
   "source": [
    "# Testing nameComparison\n",
    "# Biases:\n",
    "# Middle initials/names are omitted from matching, as they are often omitted from linkedIn names.\n",
    "# Different forms of first names are allowed (given that the name exists in the nickname file)\n",
    "# The only lastname accepted is an exact match with what is on file.\n",
    "\n",
    "# Issues/TODO: hyphenated lastnames- sometimes only one of the hyphenated names is used => need to detect\n",
    "# hyphens and allow lastnames split across the hyphen to be acceptable.\n",
    "\n",
    "first = \"Rebecca\"\n",
    "last = \"Van Buren\"\n",
    "found_name_dict = {\"Becky Van Buren\":\"asd\",\"Becca Van Buren\":\"abc\",\n",
    "                   \"Reba Van Buren\":\"idk\",\"Becca Buren\":\"c\",\"Beck Murillo Van Buren\":\"hello\", \n",
    "                   \"Rebecca Van Buren\":\"a\",\"Beck Van\":\"b\"}\n",
    "nameComparison(first,last,found_name_dict)"
   ]
  },
  {
   "cell_type": "code",
   "execution_count": 178,
   "metadata": {},
   "outputs": [],
   "source": [
    "# Function for finding information about each result, original code by myself(Erich)\n",
    "def resultCompare(first_name, last_name):\n",
    "    \n",
    "    #Scraping search results\n",
    "    results_text = bs(driver.page_source, 'html.parser')\n",
    "    search_results = results_text.findAll(\"div\",class_=\"search-result__info pt3 pb4 ph0\")\n",
    "    \n",
    "    for index in range(0,len(search_results)):\n",
    "\n",
    "        result = search_results[index]\n",
    "        found_name_element = result.find(\"span\", class_=\"name actor-name\")\n",
    "        \n",
    "        if(found_name_element != None): #LinkedIn members with private visibility show up as None\n",
    "            found_name = found_name_element.string\n",
    "            \n",
    "            #Getting the link to that page\n",
    "            found_page_link_element = result.find(\"a\")\n",
    "            found_link = 'https://www.linkedin.com' + found_page_link_element.get('href')\n",
    "            \n",
    "            # Adding names and links to a dictionary\n",
    "            found_info[found_name] = found_link\n",
    "            print(found_name, found_link)\n",
    "        \n",
    "    #uncomment name comparison here when complete\n",
    "    #nameComparison(first_name, last_name, found_info)\n",
    "        "
   ]
  },
  {
   "cell_type": "code",
   "execution_count": 36,
   "metadata": {},
   "outputs": [],
   "source": [
    "\n",
    "# Searching in LinkedIn, original code by myself(Erich)\n",
    "def linkedIn_search(first_name, last_name):\n",
    "    #Finding the search bar\n",
    "    search_bar = driver.find_element_by_class_name('search-global-typeahead__input')\n",
    "    search_bar.click()\n",
    "\n",
    "    #Entering in the name/search query\n",
    "    search_bar.send_keys(first_name + \" \" + last_name) # The name you want to search\n",
    "    time.sleep(0.5)\n",
    "\n",
    "    #Clicking the search button to get the search results\n",
    "    search_button = driver.find_element_by_class_name('search-global-typeahead__controls')\n",
    "    search_button.click()\n",
    "\n",
    "    \n"
   ]
  },
  {
   "cell_type": "code",
   "execution_count": 169,
   "metadata": {},
   "outputs": [],
   "source": [
    "#Cleaning nickname csv file:\n",
    "#Nicknames csv reference: https://github.com/onyxrev/common_nickname_csv\n",
    "\n",
    "nicknames = pd.read_csv('nicknames.csv')\n",
    "nicknames = nicknames.drop('id', axis=1)\n",
    "nicknames.columns = {\"name\",\"nickname\"}\n"
   ]
  },
  {
   "cell_type": "code",
   "execution_count": 180,
   "metadata": {},
   "outputs": [
    {
     "ename": "WebDriverException",
     "evalue": "Message: 'absolute_path_to_the_chromedriver' executable needs to be in PATH. Please see https://sites.google.com/a/chromium.org/chromedriver/home\n",
     "output_type": "error",
     "traceback": [
      "\u001b[0;31m---------------------------------------------------------------------------\u001b[0m",
      "\u001b[0;31mFileNotFoundError\u001b[0m                         Traceback (most recent call last)",
      "\u001b[0;32m/opt/anaconda3/lib/python3.7/site-packages/selenium/webdriver/common/service.py\u001b[0m in \u001b[0;36mstart\u001b[0;34m(self)\u001b[0m\n\u001b[1;32m     75\u001b[0m                                             \u001b[0mstderr\u001b[0m\u001b[0;34m=\u001b[0m\u001b[0mself\u001b[0m\u001b[0;34m.\u001b[0m\u001b[0mlog_file\u001b[0m\u001b[0;34m,\u001b[0m\u001b[0;34m\u001b[0m\u001b[0;34m\u001b[0m\u001b[0m\n\u001b[0;32m---> 76\u001b[0;31m                                             stdin=PIPE)\n\u001b[0m\u001b[1;32m     77\u001b[0m         \u001b[0;32mexcept\u001b[0m \u001b[0mTypeError\u001b[0m\u001b[0;34m:\u001b[0m\u001b[0;34m\u001b[0m\u001b[0;34m\u001b[0m\u001b[0m\n",
      "\u001b[0;32m/opt/anaconda3/lib/python3.7/subprocess.py\u001b[0m in \u001b[0;36m__init__\u001b[0;34m(self, args, bufsize, executable, stdin, stdout, stderr, preexec_fn, close_fds, shell, cwd, env, universal_newlines, startupinfo, creationflags, restore_signals, start_new_session, pass_fds, encoding, errors, text)\u001b[0m\n\u001b[1;32m    774\u001b[0m                                 \u001b[0merrread\u001b[0m\u001b[0;34m,\u001b[0m \u001b[0merrwrite\u001b[0m\u001b[0;34m,\u001b[0m\u001b[0;34m\u001b[0m\u001b[0;34m\u001b[0m\u001b[0m\n\u001b[0;32m--> 775\u001b[0;31m                                 restore_signals, start_new_session)\n\u001b[0m\u001b[1;32m    776\u001b[0m         \u001b[0;32mexcept\u001b[0m\u001b[0;34m:\u001b[0m\u001b[0;34m\u001b[0m\u001b[0;34m\u001b[0m\u001b[0m\n",
      "\u001b[0;32m/opt/anaconda3/lib/python3.7/subprocess.py\u001b[0m in \u001b[0;36m_execute_child\u001b[0;34m(self, args, executable, preexec_fn, close_fds, pass_fds, cwd, env, startupinfo, creationflags, shell, p2cread, p2cwrite, c2pread, c2pwrite, errread, errwrite, restore_signals, start_new_session)\u001b[0m\n\u001b[1;32m   1521\u001b[0m                             \u001b[0merr_msg\u001b[0m \u001b[0;34m+=\u001b[0m \u001b[0;34m': '\u001b[0m \u001b[0;34m+\u001b[0m \u001b[0mrepr\u001b[0m\u001b[0;34m(\u001b[0m\u001b[0merr_filename\u001b[0m\u001b[0;34m)\u001b[0m\u001b[0;34m\u001b[0m\u001b[0;34m\u001b[0m\u001b[0m\n\u001b[0;32m-> 1522\u001b[0;31m                     \u001b[0;32mraise\u001b[0m \u001b[0mchild_exception_type\u001b[0m\u001b[0;34m(\u001b[0m\u001b[0merrno_num\u001b[0m\u001b[0;34m,\u001b[0m \u001b[0merr_msg\u001b[0m\u001b[0;34m,\u001b[0m \u001b[0merr_filename\u001b[0m\u001b[0;34m)\u001b[0m\u001b[0;34m\u001b[0m\u001b[0;34m\u001b[0m\u001b[0m\n\u001b[0m\u001b[1;32m   1523\u001b[0m                 \u001b[0;32mraise\u001b[0m \u001b[0mchild_exception_type\u001b[0m\u001b[0;34m(\u001b[0m\u001b[0merr_msg\u001b[0m\u001b[0;34m)\u001b[0m\u001b[0;34m\u001b[0m\u001b[0;34m\u001b[0m\u001b[0m\n",
      "\u001b[0;31mFileNotFoundError\u001b[0m: [Errno 2] No such file or directory: 'absolute_path_to_the_chromedriver': 'absolute_path_to_the_chromedriver'",
      "\nDuring handling of the above exception, another exception occurred:\n",
      "\u001b[0;31mWebDriverException\u001b[0m                        Traceback (most recent call last)",
      "\u001b[0;32m<ipython-input-180-11434b851bac>\u001b[0m in \u001b[0;36m<module>\u001b[0;34m\u001b[0m\n\u001b[1;32m      4\u001b[0m \u001b[0;34m\u001b[0m\u001b[0m\n\u001b[1;32m      5\u001b[0m \u001b[0;31m# Replace the placeholder with the absolute path to the chromedriver file\u001b[0m\u001b[0;34m\u001b[0m\u001b[0;34m\u001b[0m\u001b[0;34m\u001b[0m\u001b[0m\n\u001b[0;32m----> 6\u001b[0;31m \u001b[0mdriver\u001b[0m \u001b[0;34m=\u001b[0m \u001b[0mwebdriver\u001b[0m\u001b[0;34m.\u001b[0m\u001b[0mChrome\u001b[0m\u001b[0;34m(\u001b[0m\u001b[0;34m'absolute_path_to_the_chromedriver'\u001b[0m\u001b[0;34m)\u001b[0m\u001b[0;34m\u001b[0m\u001b[0;34m\u001b[0m\u001b[0m\n\u001b[0m\u001b[1;32m      7\u001b[0m \u001b[0;34m\u001b[0m\u001b[0m\n\u001b[1;32m      8\u001b[0m \u001b[0;31m# Replace the placeholder email and password with your login credentials for automated login to your linkedIn account\u001b[0m\u001b[0;34m\u001b[0m\u001b[0;34m\u001b[0m\u001b[0;34m\u001b[0m\u001b[0m\n",
      "\u001b[0;32m/opt/anaconda3/lib/python3.7/site-packages/selenium/webdriver/chrome/webdriver.py\u001b[0m in \u001b[0;36m__init__\u001b[0;34m(self, executable_path, port, options, service_args, desired_capabilities, service_log_path, chrome_options, keep_alive)\u001b[0m\n\u001b[1;32m     71\u001b[0m             \u001b[0mservice_args\u001b[0m\u001b[0;34m=\u001b[0m\u001b[0mservice_args\u001b[0m\u001b[0;34m,\u001b[0m\u001b[0;34m\u001b[0m\u001b[0;34m\u001b[0m\u001b[0m\n\u001b[1;32m     72\u001b[0m             log_path=service_log_path)\n\u001b[0;32m---> 73\u001b[0;31m         \u001b[0mself\u001b[0m\u001b[0;34m.\u001b[0m\u001b[0mservice\u001b[0m\u001b[0;34m.\u001b[0m\u001b[0mstart\u001b[0m\u001b[0;34m(\u001b[0m\u001b[0;34m)\u001b[0m\u001b[0;34m\u001b[0m\u001b[0;34m\u001b[0m\u001b[0m\n\u001b[0m\u001b[1;32m     74\u001b[0m \u001b[0;34m\u001b[0m\u001b[0m\n\u001b[1;32m     75\u001b[0m         \u001b[0;32mtry\u001b[0m\u001b[0;34m:\u001b[0m\u001b[0;34m\u001b[0m\u001b[0;34m\u001b[0m\u001b[0m\n",
      "\u001b[0;32m/opt/anaconda3/lib/python3.7/site-packages/selenium/webdriver/common/service.py\u001b[0m in \u001b[0;36mstart\u001b[0;34m(self)\u001b[0m\n\u001b[1;32m     81\u001b[0m                 raise WebDriverException(\n\u001b[1;32m     82\u001b[0m                     \"'%s' executable needs to be in PATH. %s\" % (\n\u001b[0;32m---> 83\u001b[0;31m                         os.path.basename(self.path), self.start_error_message)\n\u001b[0m\u001b[1;32m     84\u001b[0m                 )\n\u001b[1;32m     85\u001b[0m             \u001b[0;32melif\u001b[0m \u001b[0merr\u001b[0m\u001b[0;34m.\u001b[0m\u001b[0merrno\u001b[0m \u001b[0;34m==\u001b[0m \u001b[0merrno\u001b[0m\u001b[0;34m.\u001b[0m\u001b[0mEACCES\u001b[0m\u001b[0;34m:\u001b[0m\u001b[0;34m\u001b[0m\u001b[0;34m\u001b[0m\u001b[0m\n",
      "\u001b[0;31mWebDriverException\u001b[0m: Message: 'absolute_path_to_the_chromedriver' executable needs to be in PATH. Please see https://sites.google.com/a/chromium.org/chromedriver/home\n"
     ]
    }
   ],
   "source": [
    "# Signin & search: Will not compile unless the placeholder fields are replaced\n",
    "\n",
    "# Chromedriver download: https://sites.google.com/a/chromium.org/chromedriver/downloads\n",
    "\n",
    "# Replace the placeholder with the absolute path to the chromedriver file \n",
    "driver = webdriver.Chrome('absolute_path_to_the_chromedriver')\n",
    "\n",
    "# Replace the placeholder email and password with your login credentials for automated login to your linkedIn account\n",
    "signin('youremail','yourpassword')\n",
    "\n",
    "# The name you want to search goes here ( will be using the last name & first name fields from the alumni file)\n",
    "first_name = 'Erich'\n",
    "last_name = 'McMillan'\n",
    "\n",
    "linkedIn_search(first_name, last_name)"
   ]
  },
  {
   "cell_type": "code",
   "execution_count": 95,
   "metadata": {
    "scrolled": false
   },
   "outputs": [
    {
     "name": "stdout",
     "output_type": "stream",
     "text": [
      "Erich McMillan https://www.linkedin.com/in/erich-mcmillan-140617185/\n",
      "Erich McMillan-McCall https://www.linkedin.com/in/erich-mcmillan-mccall-23a16525/\n"
     ]
    }
   ],
   "source": [
    "# Compare search results to query, determine which profiles to visit\n",
    "resultCompare(name_to_search)"
   ]
  },
  {
   "cell_type": "code",
   "execution_count": null,
   "metadata": {},
   "outputs": [],
   "source": []
  }
 ],
 "metadata": {
  "kernelspec": {
   "display_name": "Python 3",
   "language": "python",
   "name": "python3"
  },
  "language_info": {
   "codemirror_mode": {
    "name": "ipython",
    "version": 3
   },
   "file_extension": ".py",
   "mimetype": "text/x-python",
   "name": "python",
   "nbconvert_exporter": "python",
   "pygments_lexer": "ipython3",
   "version": "3.7.4"
  }
 },
 "nbformat": 4,
 "nbformat_minor": 2
}
